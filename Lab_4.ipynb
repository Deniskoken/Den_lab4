{
 "cells": [
  {
   "cell_type": "markdown",
   "id": "f689482b-15c5-41b1-a233-2a092174ac42",
   "metadata": {},
   "source": [
    "Date"
   ]
  },
  {
   "cell_type": "code",
   "execution_count": 197,
   "id": "8507a3b9-51b2-4319-9921-2330a5aa7dac",
   "metadata": {},
   "outputs": [
    {
     "name": "stdout",
     "output_type": "stream",
     "text": [
      "Current Date: 2025-02-13 13:57:31.946143\n",
      "Date after subtracting 5 days: 2025-02-08 13:57:31.946143\n"
     ]
    }
   ],
   "source": [
    "#1\n",
    "from datetime import datetime, timedelta\n",
    "current=datetime.now()\n",
    "new=current-timedelta(days=5)\n",
    "print(\"Current Date:\", current)\n",
    "print(\"Date after subtracting 5 days:\", new)\n"
   ]
  },
  {
   "cell_type": "code",
   "execution_count": 113,
   "id": "5b91e658-fbc9-4d0c-b596-5616b566df0b",
   "metadata": {},
   "outputs": [
    {
     "name": "stdout",
     "output_type": "stream",
     "text": [
      "Yesterday:  2025-02-12\n",
      "Today:  2025-02-13\n",
      "Tomorrow:  2025-02-14\n"
     ]
    }
   ],
   "source": [
    "#2\n",
    "from datetime import datetime, timedelta\n",
    "\n",
    "today=datetime.now().date()\n",
    "yesterday=today-timedelta(days=1)\n",
    "tomorrow=today+timedelta(days=1)\n",
    "print(\"Yesterday: \", yesterday)\n",
    "print(\"Today: \", today)\n",
    "print(\"Tomorrow: \", tomorrow)\n"
   ]
  },
  {
   "cell_type": "code",
   "execution_count": 115,
   "id": "982d5c02-ec37-4441-9a0b-914d0cec1a35",
   "metadata": {},
   "outputs": [
    {
     "name": "stdout",
     "output_type": "stream",
     "text": [
      "Datetime with microseconds:    2025-02-13 13:53:56.894089\n",
      "Datetime without microseconds: 2025-02-13 13:29:15\n"
     ]
    }
   ],
   "source": [
    "#3\n",
    "from datetime import datetime\n",
    "current=datetime.now()\n",
    "without = current_datetime.replace(microsecond=0)\n",
    "print(\"Datetime with microseconds:   \", current)\n",
    "print(\"Datetime without microseconds:\", without)\n"
   ]
  },
  {
   "cell_type": "code",
   "execution_count": 181,
   "id": "dfbeed7a-2b59-4b7c-860e-58334fc896ce",
   "metadata": {},
   "outputs": [
    {
     "name": "stdout",
     "output_type": "stream",
     "text": [
      "Difference in seconds: 266705.0\n"
     ]
    }
   ],
   "source": [
    "#4\n",
    "from datetime import datetime\n",
    "\n",
    "data1=\"2025-02-10 12:30:45\"\n",
    "data2=\"2025-02-13 14:35:50\"\n",
    "date_format=\"%Y-%m-%d %H:%M:%S\"\n",
    "\n",
    "date1=datetime.strptime(data1, date_format)\n",
    "date2=datetime.strptime(data2, date_format)\n",
    "difference=date2-date1\n",
    "\n",
    "diff = difference.total_seconds()\n",
    "print(\"Difference in seconds:\", diff)\n"
   ]
  },
  {
   "cell_type": "markdown",
   "id": "7baab070-553a-4d7c-9f72-74edb07136a2",
   "metadata": {},
   "source": [
    "Math"
   ]
  },
  {
   "cell_type": "code",
   "execution_count": 183,
   "id": "af3d3150-135b-4264-a8d5-bf4e10549b22",
   "metadata": {},
   "outputs": [
    {
     "name": "stdin",
     "output_type": "stream",
     "text": [
      "Input degree:  7\n"
     ]
    },
    {
     "name": "stdout",
     "output_type": "stream",
     "text": [
      "Output radian: 0.12217304763960307\n"
     ]
    }
   ],
   "source": [
    "#1\n",
    "import math\n",
    "\n",
    "degree=int(input('Input degree: '))\n",
    "radian=math.radians(degree)\n",
    "print(\"Output radian:\" , radian)\n"
   ]
  },
  {
   "cell_type": "code",
   "execution_count": 187,
   "id": "2cf61bc1-9a04-4500-ac3d-504df8002faa",
   "metadata": {},
   "outputs": [
    {
     "name": "stdin",
     "output_type": "stream",
     "text": [
      "Height:  5\n",
      "Base, first value:  4\n",
      "Base, second value:  7\n"
     ]
    },
    {
     "name": "stdout",
     "output_type": "stream",
     "text": [
      "Expected Output: 27.5\n"
     ]
    }
   ],
   "source": [
    "#2\n",
    "import math\n",
    "\n",
    "h=int(input(\"Height: \"))\n",
    "base1=int(input('Base, first value: '))\n",
    "base2=int(input('Base, second value: '))\n",
    "area = (h * (base1 + base2)) / 2\n",
    "print(\"Expected Output:\", area)\n",
    "\n"
   ]
  },
  {
   "cell_type": "code",
   "execution_count": 75,
   "id": "71e9765a-aa77-458a-8efb-10f3b6e120d7",
   "metadata": {},
   "outputs": [
    {
     "name": "stdin",
     "output_type": "stream",
     "text": [
      "Input number of sides:  4\n",
      "Input the length of a side:  5\n"
     ]
    },
    {
     "name": "stdout",
     "output_type": "stream",
     "text": [
      "The area of the polygon is: 25\n"
     ]
    }
   ],
   "source": [
    "#3\n",
    "import math\n",
    "\n",
    "n=int(input(\"Input number of sides: \"))\n",
    "s=int(input(\"Input the length of a side: \"))\n",
    "area=(n * s ** 2) / (4 * math.tan(math.pi / n))\n",
    "area=int(area)\n",
    "print(\"The area of the polygon is:\", area)\n"
   ]
  },
  {
   "cell_type": "code",
   "execution_count": 189,
   "id": "fbc56aba-75d3-471c-a679-0b8bdbd3bc3e",
   "metadata": {},
   "outputs": [
    {
     "name": "stdin",
     "output_type": "stream",
     "text": [
      "Length of base:  4\n",
      "Height of parallelogram:  5\n"
     ]
    },
    {
     "name": "stdout",
     "output_type": "stream",
     "text": [
      "Expected Output: 20\n"
     ]
    }
   ],
   "source": [
    "#4\n",
    "import math\n",
    "\n",
    "b=int(input('Length of base: '))\n",
    "h = int(input(\"Height of parallelogram: \"))\n",
    "area = b * h\n",
    "print(\"Expected Output:\", area)\n"
   ]
  },
  {
   "cell_type": "markdown",
   "id": "45950fb3-3956-4ce3-964c-1b32dda4cc2e",
   "metadata": {},
   "source": [
    "Genarators"
   ]
  },
  {
   "cell_type": "code",
   "execution_count": 103,
   "id": "4751f56a-4cc5-45be-acd3-48b81002aeef",
   "metadata": {},
   "outputs": [
    {
     "name": "stdin",
     "output_type": "stream",
     "text": [
      "Enter a number:  45\n"
     ]
    },
    {
     "name": "stdout",
     "output_type": "stream",
     "text": [
      "1\n",
      "4\n",
      "9\n",
      "16\n",
      "25\n",
      "36\n",
      "49\n",
      "64\n",
      "81\n",
      "100\n",
      "121\n",
      "144\n",
      "169\n",
      "196\n",
      "225\n",
      "256\n",
      "289\n",
      "324\n",
      "361\n",
      "400\n",
      "441\n",
      "484\n",
      "529\n",
      "576\n",
      "625\n",
      "676\n",
      "729\n",
      "784\n",
      "841\n",
      "900\n",
      "961\n",
      "1024\n",
      "1089\n",
      "1156\n",
      "1225\n",
      "1296\n",
      "1369\n",
      "1444\n",
      "1521\n",
      "1600\n",
      "1681\n",
      "1764\n",
      "1849\n",
      "1936\n",
      "2025\n"
     ]
    }
   ],
   "source": [
    "#1\n",
    "def square_generator(n):\n",
    "    for i in range(1, n + 1):\n",
    "        yield i ** 2\n",
    "N = int(input(\"Enter a number: \"))\n",
    "for square in square_generator(N):\n",
    "    print(square)\n"
   ]
  },
  {
   "cell_type": "code",
   "execution_count": 105,
   "id": "a655bf03-5578-47e8-843c-8b55f9bf1391",
   "metadata": {},
   "outputs": [
    {
     "name": "stdin",
     "output_type": "stream",
     "text": [
      "Enter a number:  4\n"
     ]
    },
    {
     "name": "stdout",
     "output_type": "stream",
     "text": [
      "0,2,4\n"
     ]
    }
   ],
   "source": [
    "#2\n",
    "def even_numbers(n):\n",
    "    for i in range(0, n + 1):\n",
    "        if i % 2 == 0:\n",
    "            yield i\n",
    "\n",
    "n = int(input(\"Enter a number: \"))\n",
    "even_nums = even_numbers(n)\n",
    "result = \",\".join(str(num) for num in even_nums)\n",
    "print(result)\n"
   ]
  },
  {
   "cell_type": "code",
   "execution_count": 193,
   "id": "caf700a3-e107-46c0-a587-f83700f6190a",
   "metadata": {},
   "outputs": [
    {
     "name": "stdin",
     "output_type": "stream",
     "text": [
      "Enter n:  49\n"
     ]
    },
    {
     "name": "stdout",
     "output_type": "stream",
     "text": [
      "0\n",
      "12\n",
      "24\n",
      "36\n",
      "48\n"
     ]
    }
   ],
   "source": [
    "#3\n",
    "def div(n):\n",
    "    for i in range(n + 1):\n",
    "        if i % 3 == 0 and i % 4 == 0:\n",
    "            yield i\n",
    "            \n",
    "n=int(input(\"Enter n: \"))\n",
    "for num in div(n):\n",
    "    print(num)"
   ]
  },
  {
   "cell_type": "code",
   "execution_count": 109,
   "id": "983389e7-d570-4659-b7da-095eae1e240d",
   "metadata": {},
   "outputs": [
    {
     "name": "stdin",
     "output_type": "stream",
     "text": [
      "Enter start value a:  4\n",
      "Enter end value b:  8\n"
     ]
    },
    {
     "name": "stdout",
     "output_type": "stream",
     "text": [
      "16\n",
      "25\n",
      "36\n",
      "49\n",
      "64\n"
     ]
    }
   ],
   "source": [
    "#4\n",
    "def squares(a, b):\n",
    "    for i in range(a, b + 1):\n",
    "        yield i ** 2\n",
    "a=int(input(\"Enter start value a: \"))\n",
    "b=int(input(\"Enter end value b: \"))\n",
    "for square in squares(a, b):\n",
    "    print(square)\n",
    "\n"
   ]
  },
  {
   "cell_type": "code",
   "execution_count": 111,
   "id": "ff93ce36-8e9c-4ce8-a218-4bd9475d7d86",
   "metadata": {},
   "outputs": [
    {
     "name": "stdin",
     "output_type": "stream",
     "text": [
      "Enter a number:  4\n"
     ]
    },
    {
     "name": "stdout",
     "output_type": "stream",
     "text": [
      "4\n",
      "3\n",
      "2\n",
      "1\n",
      "0\n"
     ]
    }
   ],
   "source": [
    "#5\n",
    "def countdown(n):\n",
    "    for i in range(n, -1, -1):\n",
    "        yield i\n",
    "n = int(input(\"Enter a number: \"))\n",
    "for number in countdown(n):\n",
    "    print(number)\n"
   ]
  }
 ],
 "metadata": {
  "kernelspec": {
   "display_name": "Python [conda env:base] *",
   "language": "python",
   "name": "conda-base-py"
  },
  "language_info": {
   "codemirror_mode": {
    "name": "ipython",
    "version": 3
   },
   "file_extension": ".py",
   "mimetype": "text/x-python",
   "name": "python",
   "nbconvert_exporter": "python",
   "pygments_lexer": "ipython3",
   "version": "3.12.7"
  }
 },
 "nbformat": 4,
 "nbformat_minor": 5
}
