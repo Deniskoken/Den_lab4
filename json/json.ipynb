{
 "cells": [
  {
   "cell_type": "code",
   "execution_count": 15,
   "id": "4bfd464a-c1b3-443f-bcf8-e98781d1caa7",
   "metadata": {},
   "outputs": [
    {
     "name": "stdout",
     "output_type": "stream",
     "text": [
      "Interface Status\n",
      "================================================================================\n",
      "DN                                                 Description           Speed    MTU  \n",
      "-------------------------------------------------- --------------------  ------  ------\n",
      "topology/pod-1/node-201/sys/phys-[eth1/14]                               inherit        9150\n",
      "topology/pod-1/node-201/sys/phys-[eth1/14]                               inherit        9150\n",
      "topology/pod-1/node-201/sys/phys-[eth1/14]                               inherit        9150\n",
      "topology/pod-1/node-201/sys/phys-[eth1/14]                               inherit        9150\n",
      "topology/pod-1/node-201/sys/phys-[eth1/14]                               inherit        9150\n",
      "topology/pod-1/node-201/sys/phys-[eth1/14]                               inherit        9150\n",
      "topology/pod-1/node-201/sys/phys-[eth1/14]                               inherit        9150\n",
      "topology/pod-1/node-201/sys/phys-[eth1/14]                               inherit        9150\n",
      "topology/pod-1/node-201/sys/phys-[eth1/14]                               inherit        9150\n",
      "topology/pod-1/node-201/sys/phys-[eth1/14]                               inherit        9150\n",
      "topology/pod-1/node-201/sys/phys-[eth1/14]                               inherit        9150\n",
      "topology/pod-1/node-201/sys/phys-[eth1/14]                               inherit        9150\n",
      "topology/pod-1/node-201/sys/phys-[eth1/14]                               inherit        9150\n",
      "topology/pod-1/node-201/sys/phys-[eth1/14]                               inherit        9150\n",
      "topology/pod-1/node-201/sys/phys-[eth1/14]                               inherit        9150\n",
      "topology/pod-1/node-201/sys/phys-[eth1/14]                               inherit        9150\n",
      "topology/pod-1/node-201/sys/phys-[eth1/14]                               inherit        9150\n",
      "topology/pod-1/node-201/sys/phys-[eth1/14]                               inherit        9150\n"
     ]
    }
   ],
   "source": [
    "import json\n",
    "with open (\"sample-data.json\",\"r\") as file:\n",
    "    data=json.load(file)\n",
    "print(\"Interface Status\")\n",
    "print(\"================================================================================\")\n",
    "print(\"DN                                                 Description           Speed    MTU  \")\n",
    "print(\"-------------------------------------------------- --------------------  ------  ------\")\n",
    "# print(len(arr))\n",
    "arr=data['imdata']\n",
    "for i in range (len(arr)):\n",
    "    dn=arr[i][\"l1PhysIf\"][\"attributes\"][\"dn\"]\n",
    "    desc=arr[i][\"l1PhysIf\"][\"attributes\"][\"descr\"]\n",
    "    speed=arr[i][\"l1PhysIf\"][\"attributes\"][\"speed\"]\n",
    "    mtu=arr[i][\"l1PhysIf\"][\"attributes\"][\"mtu\"]\n",
    "    print(f\"{tn}                         {desc}      {speed}        {mtu}\")\n"
   ]
  },
  {
   "cell_type": "code",
   "execution_count": null,
   "id": "61da316c-545f-4571-b04b-8559e0757d05",
   "metadata": {},
   "outputs": [],
   "source": []
  }
 ],
 "metadata": {
  "kernelspec": {
   "display_name": "Python [conda env:base] *",
   "language": "python",
   "name": "conda-base-py"
  },
  "language_info": {
   "codemirror_mode": {
    "name": "ipython",
    "version": 3
   },
   "file_extension": ".py",
   "mimetype": "text/x-python",
   "name": "python",
   "nbconvert_exporter": "python",
   "pygments_lexer": "ipython3",
   "version": "3.12.7"
  }
 },
 "nbformat": 4,
 "nbformat_minor": 5
}
